{
 "cells": [
  {
   "cell_type": "markdown",
   "metadata": {},
   "source": [
    "## 数据预处理"
   ]
  },
  {
   "cell_type": "code",
   "execution_count": 35,
   "metadata": {},
   "outputs": [],
   "source": [
    "import os\n",
    "import shutil\n",
    "\n",
    "def rmrf_mkdir(dirname):\n",
    "    if os.path.exists(dirname):\n",
    "        shutil.rmtree(dirname)\n",
    "    os.mkdir(dirname)"
   ]
  },
  {
   "cell_type": "code",
   "execution_count": 2,
   "metadata": {},
   "outputs": [],
   "source": [
    "\n",
    "train_filenames = os.listdir('data/train')\n",
    "train_cat = filter(lambda x:x[:3] == 'cat', train_filenames)\n",
    "train_dog = filter(lambda x:x[:3] == 'dog', train_filenames)\n",
    "\n",
    "\n",
    "rmrf_mkdir('data/train2')\n",
    "os.mkdir('data/train2/cat')\n",
    "os.mkdir('data/train2/dog')\n",
    "\n",
    "rmrf_mkdir('data/test2')\n",
    "os.symlink('data/test/', 'data/test2/test') \n",
    "\n",
    "for filename in train_cat:\n",
    "    os.symlink('data/train/'+filename, 'data/train2/cat/'+filename)\n",
    "    #shutil.copy('train\\\\'+filename, 'train2\\\\cat\\\\'+filename)\n",
    "\n",
    "for filename in train_dog:\n",
    "    os.symlink('data/train/'+filename, 'data/train2/dog/'+filename)\n",
    "    #shutil.copy('train\\\\'+filename, 'train2\\\\dog\\\\'+filename)\n",
    "    "
   ]
  },
  {
   "cell_type": "markdown",
   "metadata": {},
   "source": [
    "### get_diff_image\n",
    "输出top50和top100情况下选出的不同照片，放到data/anormal/diff目录下，猫和狗分目录存放"
   ]
  },
  {
   "cell_type": "code",
   "execution_count": null,
   "metadata": {},
   "outputs": [],
   "source": [
    "def get_diff_image():\n",
    "    class_types=['dog','cat']\n",
    "    for class_type in class_types:\n",
    "        filenames_50 = os.listdir('data/anormal/top50/'+class_type)\n",
    "        filenames_100 = os.listdir('data/anormal/top100/'+class_type)\n",
    "    \n",
    "        for filename50 in filenames_50:\n",
    "            if filename50 not in filenames_100:\n",
    "                shutil.copy('data/anormal/top50/'+class_type+'/'+filename50, 'data/anormal/diff/'+class_type+'/'+filename50)"
   ]
  },
  {
   "cell_type": "markdown",
   "metadata": {},
   "source": [
    "### move_anormal_images\n",
    "在trian目录中删除被选中认为是异常的图片，即：  \n",
    "data/train2/cat目录中删除data/anormal/top100/cat中的图片，  \n",
    "data/train2/dog目录中删除data/anormal/top50/dog目录下的图片,  \n",
    "data/train2/cat目录中删除data/anormal/diff/cat中的前6张图片."
   ]
  },
  {
   "cell_type": "code",
   "execution_count": 29,
   "metadata": {},
   "outputs": [],
   "source": [
    "#从dir1中删除dir2中的文件\n",
    "def move_anormal_images(dir1, dir2, threshold=0):\n",
    "    filenames = os.listdir(dir2)\n",
    "    count = 0\n",
    "    for file in filenames:\n",
    "        rmfile=dir1+'/'+file\n",
    "        if threshold > 0 and count >= threshold:\n",
    "            return\n",
    "        \n",
    "        count += 1\n",
    "        if os.path.exists(rmfile):\n",
    "            #os.unlink(rmfile)\n",
    "            os.remove(rmfile)\n",
    "            print(\"rm {}\".format(rmfile))\n",
    "    "
   ]
  },
  {
   "cell_type": "code",
   "execution_count": 30,
   "metadata": {},
   "outputs": [],
   "source": [
    "move_anormal_images(\"data/train2/dog\",\"data/anormal/top50/dog\")\n",
    "move_anormal_images(\"data/train2/cat\",\"data/anormal/top100/cat\")\n",
    "move_anormal_images(\"data/train2/cat\",\"data/anormal/diff/cat\", threshold=6)"
   ]
  },
  {
   "cell_type": "markdown",
   "metadata": {},
   "source": [
    "### 分训练集和验证集\n",
    "data/train2/cat 目录下有12451张图片  \n",
    "data/train2/dog 目录下有12479张图片  \n",
    "分别取20%用作验证集数据（四舍五入），分完后，目录情况如下：  \n",
    "data/validation/cat 2490张图片  \n",
    "data/validation/dog 2496张图片  \n",
    "data/train3/cat    9961张图片  \n",
    "data/train3/dog    9983张图片  "
   ]
  },
  {
   "cell_type": "code",
   "execution_count": 37,
   "metadata": {},
   "outputs": [],
   "source": [
    "#前N张分到验证集，其余放到验证集\n",
    "def split_validation(soucre_dir,calss_type, rito):\n",
    "    filenames = os.listdir(soucre_dir)\n",
    "    total=len(filenames)\n",
    "    valid_cnt=round(total*rito)\n",
    "    \n",
    "    valid_dir='data/validation/'+calss_type\n",
    "    train_dir='data/train3/'+calss_type\n",
    "    \n",
    "    count=0\n",
    "    for file in filenames:\n",
    "        if count<valid_cnt:\n",
    "            os.symlink(soucre_dir+'/'+file, valid_dir+'/'+file)\n",
    "        else:\n",
    "            os.symlink(soucre_dir+'/'+file, train_dir+'/'+file)\n",
    "        count += 1\n",
    "    "
   ]
  },
  {
   "cell_type": "code",
   "execution_count": null,
   "metadata": {},
   "outputs": [],
   "source": [
    "rmrf_mkdir('data/validation')\n",
    "os.mkdir('data/validation/cat')\n",
    "os.mkdir('data/validation/dog')\n",
    "\n",
    "rmrf_mkdir('data/train3')\n",
    "os.mkdir('data/train3/cat')\n",
    "os.mkdir('data/train3/dog')\n",
    "\n",
    "split_validation('data/train2/cat','cat',rito=0.2)\n",
    "split_validation('data/train2/dog','dog',rito=0.2)"
   ]
  },
  {
   "cell_type": "code",
   "execution_count": 52,
   "metadata": {},
   "outputs": [
    {
     "name": "stdout",
     "output_type": "stream",
     "text": [
      "2\n",
      "3\n",
      "4\n",
      "6\n",
      "8\n",
      "9\n",
      "12\n",
      "18\n",
      "24\n",
      "36\n",
      "72\n",
      "277\n",
      "554\n",
      "831\n",
      "1108\n",
      "1662\n",
      "2216\n",
      "2493\n",
      "3324\n",
      "4986\n",
      "6648\n",
      "9972\n"
     ]
    }
   ],
   "source": [
    "def shusu(N):\n",
    "    for i in range(N-2):\n",
    "        result=N//(i+2)\n",
    "        if N == (i+2)*result:\n",
    "            print (i+2)\n",
    "            \n",
    "shusu(19944)"
   ]
  },
  {
   "cell_type": "code",
   "execution_count": 53,
   "metadata": {},
   "outputs": [
    {
     "name": "stdout",
     "output_type": "stream",
     "text": [
      "2\n",
      "3\n",
      "6\n",
      "9\n",
      "18\n",
      "277\n",
      "554\n",
      "831\n",
      "1662\n",
      "2493\n"
     ]
    }
   ],
   "source": [
    "shusu(4986)"
   ]
  }
 ],
 "metadata": {
  "kernelspec": {
   "display_name": "Python 3",
   "language": "python",
   "name": "python3"
  },
  "language_info": {
   "codemirror_mode": {
    "name": "ipython",
    "version": 3
   },
   "file_extension": ".py",
   "mimetype": "text/x-python",
   "name": "python",
   "nbconvert_exporter": "python",
   "pygments_lexer": "ipython3",
   "version": "3.6.4"
  }
 },
 "nbformat": 4,
 "nbformat_minor": 2
}
