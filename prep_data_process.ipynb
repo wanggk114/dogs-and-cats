{
 "cells": [
  {
   "cell_type": "markdown",
   "metadata": {},
   "source": [
    "## 数据预处理"
   ]
  },
  {
   "cell_type": "code",
   "execution_count": 1,
   "metadata": {},
   "outputs": [],
   "source": [
    "import os\n",
    "import shutil\n",
    "\n",
    "def rmrf_mkdir(dirname):\n",
    "    if os.path.exists(dirname):\n",
    "        shutil.rmtree(dirname)\n",
    "    os.mkdir(dirname)"
   ]
  },
  {
   "cell_type": "code",
   "execution_count": 2,
   "metadata": {},
   "outputs": [],
   "source": [
    "\n",
    "train_filenames = os.listdir('data/train')\n",
    "train_cat = filter(lambda x:x[:3] == 'cat', train_filenames)\n",
    "train_dog = filter(lambda x:x[:3] == 'dog', train_filenames)\n",
    "\n",
    "\n",
    "rmrf_mkdir('data/train2')\n",
    "os.mkdir('data/train2/cat')\n",
    "os.mkdir('data/train2/dog')\n",
    "\n",
    "rmrf_mkdir('data/test2')\n",
    "os.symlink('data/test/', 'data/test2/test') \n",
    "\n",
    "for filename in train_cat:\n",
    "    os.symlink('../../train/'+filename, 'data/train2/cat/'+filename)\n",
    "    #shutil.copy('data/train/'+filename, 'data/train2/cat/'+filename)\n",
    "\n",
    "for filename in train_dog:\n",
    "    os.symlink('../../train/'+filename, 'data/train2/dog/'+filename)\n",
    "    #shutil.copy('data/train/'+filename, 'data/train2/dog/'+filename)\n",
    "    "
   ]
  },
  {
   "cell_type": "markdown",
   "metadata": {},
   "source": [
    "### get_diff_image\n",
    "输出top50和top100情况下选出的不同照片，放到data/anormal/diff目录下，猫和狗分目录存放"
   ]
  },
  {
   "cell_type": "code",
   "execution_count": 3,
   "metadata": {},
   "outputs": [],
   "source": [
    "def get_diff_image():\n",
    "    class_types=['dog','cat']\n",
    "    for class_type in class_types:\n",
    "        filenames_50 = os.listdir('data/anormal/top50/'+class_type)\n",
    "        filenames_100 = os.listdir('data/anormal/top100/'+class_type)\n",
    "    \n",
    "        for filename50 in filenames_50:\n",
    "            if filename50 not in filenames_100:\n",
    "                shutil.copy('data/anormal/top50/'+class_type+'/'+filename50, 'data/anormal/diff/'+class_type+'/'+filename50)"
   ]
  },
  {
   "cell_type": "markdown",
   "metadata": {},
   "source": [
    "### move_anormal_images\n",
    "在trian目录中删除被选中认为是异常的图片，即：  \n",
    "data/train2/cat目录中删除data/anormal/top100/cat中的图片，  \n",
    "data/train2/dog目录中删除data/anormal/top50/dog目录下的图片,  \n",
    "data/train2/cat目录中删除data/anormal/diff/cat中的前6张图片."
   ]
  },
  {
   "cell_type": "code",
   "execution_count": 3,
   "metadata": {},
   "outputs": [],
   "source": [
    "#从dir1中删除dir2中的文件\n",
    "def move_anormal_images(dir1, dir2, threshold=0, link_flag=True):\n",
    "    filenames = os.listdir(dir2)\n",
    "    count = 0\n",
    "    for file in filenames:\n",
    "        #rmfile=dir1+'/'+file\n",
    "        rmfile=os.getcwd()+'/'+ dir1+'/'+file\n",
    "        if threshold > 0 and count >= threshold:\n",
    "            return\n",
    "        \n",
    "        count += 1\n",
    "        \n",
    "        if os.path.exists(rmfile):\n",
    "            if link_flag:\n",
    "                os.unlink(rmfile)\n",
    "            else:\n",
    "                os.remove(rmfile)\n",
    "            print(\"rm {}\".format(rmfile))\n",
    "        \n",
    "        '''\n",
    "        if link_flag:\n",
    "            os.unlink(rmfile)\n",
    "        else:\n",
    "            os.remove(rmfile)\n",
    "        print(\"rm {}\".format(rmfile))\n",
    "        '''\n",
    "            \n",
    "    "
   ]
  },
  {
   "cell_type": "code",
   "execution_count": 4,
   "metadata": {},
   "outputs": [
    {
     "name": "stdout",
     "output_type": "stream",
     "text": [
      "rm /home/ubuntu/dogs-and-cats/data/train2/dog/dog.11266.jpg\n",
      "rm /home/ubuntu/dogs-and-cats/data/train2/dog/dog.3889.jpg\n",
      "rm /home/ubuntu/dogs-and-cats/data/train2/dog/dog.9517.jpg\n",
      "rm /home/ubuntu/dogs-and-cats/data/train2/dog/dog.10237.jpg\n",
      "rm /home/ubuntu/dogs-and-cats/data/train2/dog/dog.9188.jpg\n",
      "rm /home/ubuntu/dogs-and-cats/data/train2/dog/dog.6475.jpg\n",
      "rm /home/ubuntu/dogs-and-cats/data/train2/dog/dog.5604.jpg\n",
      "rm /home/ubuntu/dogs-and-cats/data/train2/dog/dog.10161.jpg\n",
      "rm /home/ubuntu/dogs-and-cats/data/train2/dog/dog.1895.jpg\n",
      "rm /home/ubuntu/dogs-and-cats/data/train2/dog/dog.10801.jpg\n",
      "rm /home/ubuntu/dogs-and-cats/data/train2/dog/dog.1773.jpg\n",
      "rm /home/ubuntu/dogs-and-cats/data/train2/dog/dog.11299.jpg\n",
      "rm /home/ubuntu/dogs-and-cats/data/train2/dog/dog.2614.jpg\n",
      "rm /home/ubuntu/dogs-and-cats/data/train2/dog/dog.1259.jpg\n",
      "rm /home/ubuntu/dogs-and-cats/data/train2/dog/dog.10747.jpg\n",
      "rm /home/ubuntu/dogs-and-cats/data/train2/dog/dog.2422.jpg\n",
      "rm /home/ubuntu/dogs-and-cats/data/train2/dog/dog.8898.jpg\n",
      "rm /home/ubuntu/dogs-and-cats/data/train2/dog/dog.4367.jpg\n",
      "rm /home/ubuntu/dogs-and-cats/data/train2/dog/dog.12376.jpg\n",
      "rm /home/ubuntu/dogs-and-cats/data/train2/dog/dog.8736.jpg\n",
      "rm /home/ubuntu/dogs-and-cats/data/train2/dog/dog.10190.jpg\n",
      "rm /home/ubuntu/dogs-and-cats/data/train2/cat/cat.12424.jpg\n",
      "rm /home/ubuntu/dogs-and-cats/data/train2/cat/cat.6429.jpg\n",
      "rm /home/ubuntu/dogs-and-cats/data/train2/cat/cat.9983.jpg\n",
      "rm /home/ubuntu/dogs-and-cats/data/train2/cat/cat.9171.jpg\n",
      "rm /home/ubuntu/dogs-and-cats/data/train2/cat/cat.2337.jpg\n",
      "rm /home/ubuntu/dogs-and-cats/data/train2/cat/cat.335.jpg\n",
      "rm /home/ubuntu/dogs-and-cats/data/train2/cat/cat.5418.jpg\n",
      "rm /home/ubuntu/dogs-and-cats/data/train2/cat/cat.7194.jpg\n",
      "rm /home/ubuntu/dogs-and-cats/data/train2/cat/cat.4688.jpg\n",
      "rm /home/ubuntu/dogs-and-cats/data/train2/cat/cat.7564.jpg\n",
      "rm /home/ubuntu/dogs-and-cats/data/train2/cat/cat.12272.jpg\n",
      "rm /home/ubuntu/dogs-and-cats/data/train2/cat/cat.2939.jpg\n",
      "rm /home/ubuntu/dogs-and-cats/data/train2/cat/cat.4852.jpg\n",
      "rm /home/ubuntu/dogs-and-cats/data/train2/cat/cat.5351.jpg\n",
      "rm /home/ubuntu/dogs-and-cats/data/train2/cat/cat.7377.jpg\n",
      "rm /home/ubuntu/dogs-and-cats/data/train2/cat/cat.8921.jpg\n",
      "rm /home/ubuntu/dogs-and-cats/data/train2/cat/cat.4308.jpg\n",
      "rm /home/ubuntu/dogs-and-cats/data/train2/cat/cat.8470.jpg\n",
      "rm /home/ubuntu/dogs-and-cats/data/train2/cat/cat.3868.jpg\n",
      "rm /home/ubuntu/dogs-and-cats/data/train2/cat/cat.2509.jpg\n",
      "rm /home/ubuntu/dogs-and-cats/data/train2/cat/cat.5527.jpg\n",
      "rm /home/ubuntu/dogs-and-cats/data/train2/cat/cat.10700.jpg\n",
      "rm /home/ubuntu/dogs-and-cats/data/train2/cat/cat.11184.jpg\n",
      "rm /home/ubuntu/dogs-and-cats/data/train2/cat/cat.10029.jpg\n",
      "rm /home/ubuntu/dogs-and-cats/data/train2/cat/cat.7487.jpg\n",
      "rm /home/ubuntu/dogs-and-cats/data/train2/cat/cat.2433.jpg\n",
      "rm /home/ubuntu/dogs-and-cats/data/train2/cat/cat.5071.jpg\n",
      "rm /home/ubuntu/dogs-and-cats/data/train2/cat/cat.8456.jpg\n",
      "rm /home/ubuntu/dogs-and-cats/data/train2/cat/cat.372.jpg\n",
      "rm /home/ubuntu/dogs-and-cats/data/train2/cat/cat.7968.jpg\n",
      "rm /home/ubuntu/dogs-and-cats/data/train2/cat/cat.6402.jpg\n",
      "rm /home/ubuntu/dogs-and-cats/data/train2/cat/cat.11565.jpg\n",
      "rm /home/ubuntu/dogs-and-cats/data/train2/cat/cat.6442.jpg\n",
      "rm /home/ubuntu/dogs-and-cats/data/train2/cat/cat.10712.jpg\n",
      "rm /home/ubuntu/dogs-and-cats/data/train2/cat/cat.4833.jpg\n",
      "rm /home/ubuntu/dogs-and-cats/data/train2/cat/cat.252.jpg\n",
      "rm /home/ubuntu/dogs-and-cats/data/train2/cat/cat.4338.jpg\n",
      "rm /home/ubuntu/dogs-and-cats/data/train2/cat/cat.2457.jpg\n",
      "rm /home/ubuntu/dogs-and-cats/data/train2/cat/cat.2893.jpg\n",
      "rm /home/ubuntu/dogs-and-cats/data/train2/cat/cat.4965.jpg\n",
      "rm /home/ubuntu/dogs-and-cats/data/train2/cat/cat.2520.jpg\n",
      "rm /home/ubuntu/dogs-and-cats/data/train2/cat/cat.3216.jpg\n",
      "rm /home/ubuntu/dogs-and-cats/data/train2/cat/cat.3672.jpg\n",
      "rm /home/ubuntu/dogs-and-cats/data/train2/cat/cat.7291.jpg\n",
      "rm /home/ubuntu/dogs-and-cats/data/train2/cat/cat.7372.jpg\n",
      "rm /home/ubuntu/dogs-and-cats/data/train2/cat/cat.6655.jpg\n",
      "rm /home/ubuntu/dogs-and-cats/data/train2/cat/cat.10365.jpg\n",
      "rm /home/ubuntu/dogs-and-cats/data/train2/cat/cat.7703.jpg\n",
      "rm /home/ubuntu/dogs-and-cats/data/train2/cat/cat.12476.jpg\n"
     ]
    }
   ],
   "source": [
    "move_anormal_images(\"data/train2/dog\",\"data/anormal/top50/dog\")\n",
    "move_anormal_images(\"data/train2/cat\",\"data/anormal/top100/cat\")\n",
    "move_anormal_images(\"data/train2/cat\",\"data/anormal/diff/cat\", threshold=6, link_flag=False)\n",
    "\n",
    "#move_anormal_images(\"data/train2/dog\",\"data/anormal/top50/dog\", link_flag=False)\n",
    "#move_anormal_images(\"data/train2/cat\",\"data/anormal/top100/cat\", link_flag=False)\n",
    "#move_anormal_images(\"data/train2/cat\",\"data/anormal/diff/cat\", threshold=6, link_flag=False)\n"
   ]
  },
  {
   "cell_type": "markdown",
   "metadata": {},
   "source": [
    "### 分训练集和验证集\n",
    "data/train2/cat 目录下有12451张图片  \n",
    "data/train2/dog 目录下有12479张图片  \n",
    "分别取20%用作验证集数据（四舍五入），分完后，目录情况如下：  \n",
    "data/validation/cat 2490张图片  \n",
    "data/validation/dog 2496张图片  \n",
    "data/train3/cat    9961张图片  \n",
    "data/train3/dog    9983张图片  "
   ]
  },
  {
   "cell_type": "code",
   "execution_count": 5,
   "metadata": {},
   "outputs": [],
   "source": [
    "#含link文件的复制\n",
    "def mycopy(src, dst):\n",
    "    if os.path.islink(src):\n",
    "        linkto = os.readlink(src)\n",
    "        os.symlink(linkto, dst)\n",
    "    else:\n",
    "        shutil.copy(src,dst)\n",
    "\n",
    "#前N张分到验证集，其余放到验证集\n",
    "def split_validation(soucre_dir,calss_type, rito):\n",
    "    filenames = os.listdir(soucre_dir)\n",
    "    total=len(filenames)\n",
    "    valid_cnt=round(total*rito)\n",
    "    \n",
    "    valid_dir='data/validation/'+calss_type\n",
    "    train_dir='data/train3/'+calss_type\n",
    "    \n",
    "    count=0\n",
    "    for file in filenames:\n",
    "        if count<valid_cnt:\n",
    "            #os.symlink(soucre_dir+'/'+file, valid_dir+'/'+file)\n",
    "            #shutil.copy(soucre_dir+'/'+file, valid_dir+'/'+file)  #这里应该用copy，soucre_dir中的文件已经是Link文件\n",
    "            mycopy(soucre_dir+'/'+file, valid_dir+'/'+file)\n",
    "        else:\n",
    "            #os.symlink(soucre_dir+'/'+file, train_dir+'/'+file)\n",
    "            #shutil.copy(soucre_dir+'/'+file, train_dir+'/'+file)\n",
    "            mycopy(soucre_dir+'/'+file, train_dir+'/'+file)\n",
    "        count += 1\n",
    "    "
   ]
  },
  {
   "cell_type": "code",
   "execution_count": 6,
   "metadata": {},
   "outputs": [],
   "source": [
    "rmrf_mkdir('data/validation')\n",
    "os.mkdir('data/validation/cat')\n",
    "os.mkdir('data/validation/dog')\n",
    "\n",
    "rmrf_mkdir('data/train3')\n",
    "os.mkdir('data/train3/cat')\n",
    "os.mkdir('data/train3/dog')\n",
    "\n",
    "split_validation('data/train2/cat','cat',rito=0.2)\n",
    "split_validation('data/train2/dog','dog',rito=0.2)"
   ]
  },
  {
   "cell_type": "code",
   "execution_count": 1,
   "metadata": {},
   "outputs": [],
   "source": [
    "#把文件名在dir3中的文件，从dir1复制到dir2,因为dir3中link文件\n",
    "def copy_file_from1to2in3(dir1,dir2,dir3):\n",
    "    filenames = os.listdir(dir3)\n",
    "    \n",
    "    for file in filenames:\n",
    "        shutil.copy(dir1+'/'+file, dir2+'/'+file)"
   ]
  },
  {
   "cell_type": "code",
   "execution_count": 12,
   "metadata": {},
   "outputs": [],
   "source": [
    "rmrf_mkdir('data/train4')\n",
    "os.mkdir('data/train4/cat')\n",
    "os.mkdir('data/train4/dog')\n",
    "\n",
    "copy_file_from1to2in3('data/train', 'data/train4/cat', 'data/train3/cat')\n",
    "copy_file_from1to2in3('data/train', 'data/train4/dog', 'data/train3/dog')\n"
   ]
  },
  {
   "cell_type": "code",
   "execution_count": 2,
   "metadata": {},
   "outputs": [],
   "source": [
    "def shusu(N):\n",
    "    for i in range(N-2):\n",
    "        result=N//(i+2)\n",
    "        if N == (i+2)*result:\n",
    "            print (i+2)\n",
    "            \n"
   ]
  },
  {
   "cell_type": "code",
   "execution_count": 53,
   "metadata": {},
   "outputs": [
    {
     "name": "stdout",
     "output_type": "stream",
     "text": [
      "2\n",
      "3\n",
      "6\n",
      "9\n",
      "18\n",
      "277\n",
      "554\n",
      "831\n",
      "1662\n",
      "2493\n"
     ]
    }
   ],
   "source": [
    "shusu(19944)\n",
    "shusu(4986)"
   ]
  }
 ],
 "metadata": {
  "kernelspec": {
   "display_name": "Python 3",
   "language": "python",
   "name": "python3"
  },
  "language_info": {
   "codemirror_mode": {
    "name": "ipython",
    "version": 3
   },
   "file_extension": ".py",
   "mimetype": "text/x-python",
   "name": "python",
   "nbconvert_exporter": "python",
   "pygments_lexer": "ipython3",
   "version": "3.6.4"
  }
 },
 "nbformat": 4,
 "nbformat_minor": 2
}
