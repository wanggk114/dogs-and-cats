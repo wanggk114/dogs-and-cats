{
 "cells": [
  {
   "cell_type": "markdown",
   "metadata": {},
   "source": [
    "## 数据预处理"
   ]
  },
  {
   "cell_type": "code",
   "execution_count": 2,
   "metadata": {},
   "outputs": [],
   "source": [
    "import os\n",
    "import shutil\n",
    "\n",
    "train_filenames = os.listdir('data/train')\n",
    "train_cat = filter(lambda x:x[:3] == 'cat', train_filenames)\n",
    "train_dog = filter(lambda x:x[:3] == 'dog', train_filenames)\n",
    "\n",
    "def rmrf_mkdir(dirname):\n",
    "    if os.path.exists(dirname):\n",
    "        shutil.rmtree(dirname)\n",
    "    os.mkdir(dirname)\n",
    "\n",
    "rmrf_mkdir('data/train2')\n",
    "os.mkdir('data/train2/cat')\n",
    "os.mkdir('data/train2/dog')\n",
    "\n",
    "rmrf_mkdir('data/test2')\n",
    "os.symlink('data/test/', 'data/test2/test') \n",
    "\n",
    "for filename in train_cat:\n",
    "    os.symlink('data/train/'+filename, 'data/train2/cat/'+filename)\n",
    "    #shutil.copy('train\\\\'+filename, 'train2\\\\cat\\\\'+filename)\n",
    "\n",
    "for filename in train_dog:\n",
    "    os.symlink('data/train/'+filename, 'data/train2/dog/'+filename)\n",
    "    #shutil.copy('train\\\\'+filename, 'train2\\\\dog\\\\'+filename)\n",
    "    "
   ]
  },
  {
   "cell_type": "markdown",
   "metadata": {},
   "source": [
    "### get_diff_image\n",
    "输出top50和top100情况下选出的不同照片，放到data/anormal/diff目录下，猫和狗分目录存放"
   ]
  },
  {
   "cell_type": "code",
   "execution_count": null,
   "metadata": {},
   "outputs": [],
   "source": [
    "def get_diff_image():\n",
    "    class_types=['dog','cat']\n",
    "    for class_type in class_types:\n",
    "        filenames_50 = os.listdir('data/anormal/top50/'+class_type)\n",
    "        filenames_100 = os.listdir('data/anormal/top100/'+class_type)\n",
    "    \n",
    "        for filename50 in filenames_50:\n",
    "            if filename50 not in filenames_100:\n",
    "                shutil.copy('data/anormal/top50/'+class_type+'/'+filename50, 'data/anormal/diff/'+class_type+'/'+filename50)"
   ]
  },
  {
   "cell_type": "markdown",
   "metadata": {},
   "source": [
    "### move_anormal_images\n",
    "在trian目录中删除被选中认为是异常的图片，即：  \n",
    "data/train2/cat目录中删除data/anormal/top100/cat中的图片，  \n",
    "data/train2/dog目录中删除data/anormal/top50/dog目录下的图片。"
   ]
  },
  {
   "cell_type": "code",
   "execution_count": 18,
   "metadata": {},
   "outputs": [],
   "source": [
    "#从dir1中删除dir2中的文件\n",
    "def move_anormal_images(dir1, dir2):\n",
    "    filenames = os.listdir(dir2)\n",
    "    for file in filenames:\n",
    "        rmfile=dir1+'/'+file\n",
    "        if os.path.exists(rmfile):\n",
    "            os.unlink(rmfile)\n",
    "            #os.remove(rmfile)\n",
    "    "
   ]
  },
  {
   "cell_type": "code",
   "execution_count": 19,
   "metadata": {},
   "outputs": [
    {
     "name": "stdout",
     "output_type": "stream",
     "text": [
      "dog.11266.jpg\n",
      "dog.3889.jpg\n",
      "dog.9517.jpg\n",
      "dog.10237.jpg\n",
      "dog.9188.jpg\n",
      "dog.6475.jpg\n",
      "dog.5604.jpg\n",
      "dog.10161.jpg\n",
      "dog.1895.jpg\n",
      "dog.10801.jpg\n",
      "dog.1773.jpg\n",
      "dog.11299.jpg\n",
      "dog.2614.jpg\n",
      "dog.1259.jpg\n",
      "dog.10747.jpg\n",
      "dog.2422.jpg\n",
      "dog.8898.jpg\n",
      "dog.4367.jpg\n",
      "dog.12376.jpg\n",
      "dog.8736.jpg\n",
      "dog.10190.jpg\n",
      "cat.12424.jpg\n",
      "cat.6429.jpg\n",
      "cat.9983.jpg\n",
      "cat.9171.jpg\n",
      "cat.2337.jpg\n",
      "cat.335.jpg\n",
      "cat.5418.jpg\n",
      "cat.7194.jpg\n",
      "cat.4688.jpg\n",
      "cat.7564.jpg\n",
      "cat.12272.jpg\n",
      "cat.2939.jpg\n",
      "cat.4852.jpg\n",
      "cat.5351.jpg\n",
      "cat.7377.jpg\n",
      "cat.8921.jpg\n",
      "cat.4308.jpg\n",
      "cat.8470.jpg\n",
      "cat.3868.jpg\n",
      "cat.2509.jpg\n",
      "cat.5527.jpg\n",
      "cat.10700.jpg\n",
      "cat.11184.jpg\n",
      "cat.10029.jpg\n",
      "cat.7487.jpg\n",
      "cat.2433.jpg\n",
      "cat.5071.jpg\n",
      "cat.8456.jpg\n",
      "cat.372.jpg\n",
      "cat.7968.jpg\n",
      "cat.6402.jpg\n",
      "cat.11565.jpg\n",
      "cat.6442.jpg\n",
      "cat.10712.jpg\n",
      "cat.4833.jpg\n",
      "cat.252.jpg\n",
      "cat.4338.jpg\n",
      "cat.2457.jpg\n",
      "cat.2893.jpg\n",
      "cat.4965.jpg\n",
      "cat.2520.jpg\n",
      "cat.3216.jpg\n",
      "cat.3672.jpg\n"
     ]
    }
   ],
   "source": [
    "move_anormal_images(\"data/train2/dog\",\"data/anormal/top50/dog\")\n",
    "move_anormal_images(\"data/train2/cat\",\"data/anormal/top100/cat\")"
   ]
  }
 ],
 "metadata": {
  "kernelspec": {
   "display_name": "Python 3",
   "language": "python",
   "name": "python3"
  },
  "language_info": {
   "codemirror_mode": {
    "name": "ipython",
    "version": 3
   },
   "file_extension": ".py",
   "mimetype": "text/x-python",
   "name": "python",
   "nbconvert_exporter": "python",
   "pygments_lexer": "ipython3",
   "version": "3.6.4"
  }
 },
 "nbformat": 4,
 "nbformat_minor": 2
}
