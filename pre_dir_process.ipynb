{
 "cells": [
  {
   "cell_type": "markdown",
   "metadata": {},
   "source": [
    "# 建文件目录"
   ]
  },
  {
   "cell_type": "markdown",
   "metadata": {},
   "source": [
    "## 训练集数据按标签拆分目录\n",
    "- train目录下的文件,根据文件名拆分到train2/cat和train2/dog目录下\n",
    "- 使用连接的方式"
   ]
  },
  {
   "cell_type": "code",
   "execution_count": null,
   "metadata": {},
   "outputs": [],
   "source": [
    "import os\n",
    "import shutil"
   ]
  },
  {
   "cell_type": "code",
   "execution_count": null,
   "metadata": {},
   "outputs": [],
   "source": [
    "def rmrf_mkdir(dirname):\n",
    "    if os.path.exists(dirname):\n",
    "        shutil.rmtree(dirname)\n",
    "    os.mkdir(dirname)\n",
    "\n",
    "train_filenames = os.listdir('data/train')\n",
    "train_cat = filter(lambda x:x[:3] == 'cat', train_filenames)\n",
    "train_dog = filter(lambda x:x[:3] == 'dog', train_filenames)\n",
    "\n",
    "rmrf_mkdir('data/train2')\n",
    "os.mkdir('data/train2/cat')\n",
    "os.mkdir('data/train2/dog')\n",
    "\n",
    "rmrf_mkdir('data/test2')\n",
    "os.symlink('data/test/', 'data/test2/test') \n",
    "\n",
    "for filename in train_cat:\n",
    "    os.symlink('../../train/'+filename, 'data/train2/cat/'+filename)\n",
    "    #shutil.copy('data/train/'+filename, 'data/train2/cat/'+filename)\n",
    "\n",
    "for filename in train_dog:\n",
    "    os.symlink('../../train/'+filename, 'data/train2/dog/'+filename)\n",
    "    #shutil.copy('data/train/'+filename, 'data/train2/dog/'+filename)\n",
    "    "
   ]
  },
  {
   "cell_type": "markdown",
   "metadata": {},
   "source": [
    "## 整理检测异常图片相关的目录\n",
    "- 这一部分是后面增加的代码的，做项目过程中anormal和test_pick目录，及其子目录和文件，都是后台复制的。为了方便项目审阅老师，方便跑代码，增加此处的代码处理\n",
    "- test_pick的文件,从train目录中复制而来,结构如下:  \n",
    "test_pick/  \n",
    "       cat/cat/  \n",
    "             cat.*.jpg  \n",
    "       dog/dog/  \n",
    "             dog.*.jpg  \n",
    "- anormal下的目录结构如下:   \n",
    "anormal/  \n",
    "        cat/  #test_pick/cat/cat目录中检测出来的异常图片  \n",
    "        dog/  #test_pick/dog/dog目录中检测出来的异常图片  \n",
    "        diff/  #top50-top100的图片  \n",
    "                cat/  \n",
    "                dog/  \n",
    "        top50/   #从同层cat,dog目录复制而来  \n",
    "                cat/  \n",
    "                dog/  \n",
    "        top100/  #从同层cat,dog目录复制而来\n",
    "                cat/  \n",
    "                dog/  "
   ]
  },
  {
   "cell_type": "code",
   "execution_count": 2,
   "metadata": {},
   "outputs": [],
   "source": [
    "   \n",
    "rmrf_mkdir('data/test_pick')\n",
    "rmrf_mkdir('data/anormal')\n",
    "\n",
    "os.mkdir('data/test_pick/cat')\n",
    "os.mkdir('data/test_pick/cat/cat')\n",
    "os.mkdir('data/test_pick/dog')\n",
    "os.mkdir('data/test_pick/dog/dog')\n",
    "os.mkdir('data/anormal/cat')\n",
    "os.mkdir('data/anormal/dog')\n",
    "os.mkdir('data/anormal/diff')\n",
    "os.mkdir('data/anormal/diff/cat')\n",
    "os.mkdir('data/anormal/diff/dog')\n",
    "os.mkdir('data/anormal/top50')\n",
    "os.mkdir('data/anormal/top100')\n",
    "\n",
    "\n",
    "train_filenames = os.listdir('data/train')\n",
    "train_cat = filter(lambda x:x[:3] == 'cat', train_filenames)\n",
    "train_dog = filter(lambda x:x[:3] == 'dog', train_filenames)\n",
    "\n",
    "\n",
    "for filename in train_cat:\n",
    "    #os.symlink('../../../train/'+filename, 'data/test_pick/cat/cat/'+filename)\n",
    "    shutil.copy('data/train/'+filename, 'data/test_pick/cat/cat/'+filename)\n",
    "\n",
    "for filename in train_dog:\n",
    "    #os.symlink('../../../train/'+filename, 'data/test_pick/dog/dog/'+filename)\n",
    "    shutil.copy('data/train/'+filename, 'data/test_pick/dog/dog/'+filename)"
   ]
  }
 ],
 "metadata": {
  "kernelspec": {
   "display_name": "Environment (conda_tensorflow_p36)",
   "language": "python",
   "name": "conda_tensorflow_p36"
  },
  "language_info": {
   "codemirror_mode": {
    "name": "ipython",
    "version": 3
   },
   "file_extension": ".py",
   "mimetype": "text/x-python",
   "name": "python",
   "nbconvert_exporter": "python",
   "pygments_lexer": "ipython3",
   "version": "3.6.4"
  }
 },
 "nbformat": 4,
 "nbformat_minor": 2
}
