{
 "cells": [
  {
   "cell_type": "markdown",
   "metadata": {},
   "source": [
    "## fine-tuning"
   ]
  },
  {
   "cell_type": "code",
   "execution_count": 1,
   "metadata": {},
   "outputs": [
    {
     "name": "stderr",
     "output_type": "stream",
     "text": [
      "/home/ubuntu/anaconda3/envs/tensorflow_p36/lib/python3.6/site-packages/matplotlib/__init__.py:1067: UserWarning: Duplicate key in file \"/home/ubuntu/.config/matplotlib/matplotlibrc\", line #2\n",
      "  (fname, cnt))\n",
      "/home/ubuntu/anaconda3/envs/tensorflow_p36/lib/python3.6/site-packages/matplotlib/__init__.py:1067: UserWarning: Duplicate key in file \"/home/ubuntu/.config/matplotlib/matplotlibrc\", line #3\n",
      "  (fname, cnt))\n",
      "/home/ubuntu/anaconda3/envs/tensorflow_p36/lib/python3.6/site-packages/h5py/__init__.py:36: FutureWarning: Conversion of the second argument of issubdtype from `float` to `np.floating` is deprecated. In future, it will be treated as `np.float64 == np.dtype(float).type`.\n",
      "  from ._conv import register_converters as _register_converters\n",
      "Using TensorFlow backend.\n"
     ]
    }
   ],
   "source": [
    "'''\n",
    "数据目录结构：\n",
    "data/\n",
    "     train3/   #去除异常图片后的训练数据（连接文件）\n",
    "        dog/    #9983张图片\n",
    "            dog.0.jpg\n",
    "            dog.1.jpg\n",
    "            ...\n",
    "        cat/    #9961张图片\n",
    "            cat.0.jpg\n",
    "            cat.1.jpg\n",
    "            ...\n",
    "    validation/  #去除异常图片后的验证数据（连接文件）\n",
    "        dog/   #2496张图片\n",
    "            dog001.jpg\n",
    "            dog002.jpg\n",
    "            ...\n",
    "        cat/   #2490张图片\n",
    "            cat001.jpg\n",
    "            cat002.jpg\n",
    "            ...\n",
    "    test/     \n",
    "        test/  #测试集数据，12500张图片\n",
    "            1.jpg\n",
    "            2.jpg\n",
    "            ...\n",
    "'''\n",
    "import pandas as pd\n",
    "from tqdm import tqdm   #进度条\n",
    "from PIL import Image\n",
    "from helper import *\n",
    "\n",
    "from keras.models import *\n",
    "from keras.layers import *\n",
    "from keras.applications import *\n",
    "from keras.preprocessing.image import *\n",
    "from keras.callbacks import *\n",
    "from keras.optimizers import *\n",
    "from keras.utils import *\n",
    "\n",
    "# dimensions of our images.\n",
    "img_width, img_height = 299, 299\n",
    "\n",
    "train_data_dir = 'data/train3'\n",
    "valid_data_dir = 'data/validation'\n",
    "test_data_dir= 'data/test'\n",
    "\n",
    "nb_train_samples = 19944\n",
    "nb_validation_samples = 4986\n",
    "batch_size = 72   #19944/72=277  4986/72=69.25\n"
   ]
  },
  {
   "cell_type": "code",
   "execution_count": 2,
   "metadata": {},
   "outputs": [
    {
     "name": "stdout",
     "output_type": "stream",
     "text": [
      "Found 19944 images belonging to 2 classes.\n",
      "Found 4986 images belonging to 2 classes.\n",
      "0 input_1\n",
      "1 lambda_1\n",
      "2 block1_conv1\n",
      "3 block1_conv1_bn\n",
      "4 block1_conv1_act\n",
      "5 block1_conv2\n",
      "6 block1_conv2_bn\n",
      "7 block1_conv2_act\n",
      "8 block2_sepconv1\n",
      "9 block2_sepconv1_bn\n",
      "10 block2_sepconv2_act\n",
      "11 block2_sepconv2\n",
      "12 block2_sepconv2_bn\n",
      "13 conv2d_1\n",
      "14 block2_pool\n",
      "15 batch_normalization_1\n",
      "16 add_1\n",
      "17 block3_sepconv1_act\n",
      "18 block3_sepconv1\n",
      "19 block3_sepconv1_bn\n",
      "20 block3_sepconv2_act\n",
      "21 block3_sepconv2\n",
      "22 block3_sepconv2_bn\n",
      "23 conv2d_2\n",
      "24 block3_pool\n",
      "25 batch_normalization_2\n",
      "26 add_2\n",
      "27 block4_sepconv1_act\n",
      "28 block4_sepconv1\n",
      "29 block4_sepconv1_bn\n",
      "30 block4_sepconv2_act\n",
      "31 block4_sepconv2\n",
      "32 block4_sepconv2_bn\n",
      "33 conv2d_3\n",
      "34 block4_pool\n",
      "35 batch_normalization_3\n",
      "36 add_3\n",
      "37 block5_sepconv1_act\n",
      "38 block5_sepconv1\n",
      "39 block5_sepconv1_bn\n",
      "40 block5_sepconv2_act\n",
      "41 block5_sepconv2\n",
      "42 block5_sepconv2_bn\n",
      "43 block5_sepconv3_act\n",
      "44 block5_sepconv3\n",
      "45 block5_sepconv3_bn\n",
      "46 add_4\n",
      "47 block6_sepconv1_act\n",
      "48 block6_sepconv1\n",
      "49 block6_sepconv1_bn\n",
      "50 block6_sepconv2_act\n",
      "51 block6_sepconv2\n",
      "52 block6_sepconv2_bn\n",
      "53 block6_sepconv3_act\n",
      "54 block6_sepconv3\n",
      "55 block6_sepconv3_bn\n",
      "56 add_5\n",
      "57 block7_sepconv1_act\n",
      "58 block7_sepconv1\n",
      "59 block7_sepconv1_bn\n",
      "60 block7_sepconv2_act\n",
      "61 block7_sepconv2\n",
      "62 block7_sepconv2_bn\n",
      "63 block7_sepconv3_act\n",
      "64 block7_sepconv3\n",
      "65 block7_sepconv3_bn\n",
      "66 add_6\n",
      "67 block8_sepconv1_act\n",
      "68 block8_sepconv1\n",
      "69 block8_sepconv1_bn\n",
      "70 block8_sepconv2_act\n",
      "71 block8_sepconv2\n",
      "72 block8_sepconv2_bn\n",
      "73 block8_sepconv3_act\n",
      "74 block8_sepconv3\n",
      "75 block8_sepconv3_bn\n",
      "76 add_7\n",
      "77 block9_sepconv1_act\n",
      "78 block9_sepconv1\n",
      "79 block9_sepconv1_bn\n",
      "80 block9_sepconv2_act\n",
      "81 block9_sepconv2\n",
      "82 block9_sepconv2_bn\n",
      "83 block9_sepconv3_act\n",
      "84 block9_sepconv3\n",
      "85 block9_sepconv3_bn\n",
      "86 add_8\n",
      "87 block10_sepconv1_act\n",
      "88 block10_sepconv1\n",
      "89 block10_sepconv1_bn\n",
      "90 block10_sepconv2_act\n",
      "91 block10_sepconv2\n",
      "92 block10_sepconv2_bn\n",
      "93 block10_sepconv3_act\n",
      "94 block10_sepconv3\n",
      "95 block10_sepconv3_bn\n",
      "96 add_9\n",
      "97 block11_sepconv1_act\n",
      "98 block11_sepconv1\n",
      "99 block11_sepconv1_bn\n",
      "100 block11_sepconv2_act\n",
      "101 block11_sepconv2\n",
      "102 block11_sepconv2_bn\n",
      "103 block11_sepconv3_act\n",
      "104 block11_sepconv3\n",
      "105 block11_sepconv3_bn\n",
      "106 add_10\n",
      "107 block12_sepconv1_act\n",
      "108 block12_sepconv1\n",
      "109 block12_sepconv1_bn\n",
      "110 block12_sepconv2_act\n",
      "111 block12_sepconv2\n",
      "112 block12_sepconv2_bn\n",
      "113 block12_sepconv3_act\n",
      "114 block12_sepconv3\n",
      "115 block12_sepconv3_bn\n",
      "116 add_11\n",
      "117 block13_sepconv1_act\n",
      "118 block13_sepconv1\n",
      "119 block13_sepconv1_bn\n",
      "120 block13_sepconv2_act\n",
      "121 block13_sepconv2\n",
      "122 block13_sepconv2_bn\n",
      "123 conv2d_4\n",
      "124 block13_pool\n",
      "125 batch_normalization_4\n",
      "126 add_12\n",
      "127 block14_sepconv1\n",
      "128 block14_sepconv1_bn\n",
      "129 block14_sepconv1_act\n",
      "130 block14_sepconv2\n",
      "131 block14_sepconv2_bn\n",
      "132 block14_sepconv2_act\n",
      "133 global_average_pooling2d_1\n",
      "134 dropout_1\n",
      "135 dense_1\n"
     ]
    },
    {
     "data": {
      "text/plain": [
       "'\\nmodel,train_generator,valid_generator = build_model(Xception, (img_width, img_height), train_data_dir, valid_data_dir, xception.preprocess_input)\\n'"
      ]
     },
     "execution_count": 2,
     "metadata": {},
     "output_type": "execute_result"
    }
   ],
   "source": [
    "#构造模型\n",
    "x_input = Input((299, 299, 3))\n",
    "x_input = Lambda(xception.preprocess_input)(x_input)\n",
    "\n",
    "base_model = Xception(input_tensor=x_input, weights='imagenet', include_top=False, pooling = 'avg')\n",
    "\n",
    "for layer in base_model.layers:\n",
    "    layer.trainable = False\n",
    "    \n",
    "x = Dropout(0.5)(base_model.output)\n",
    "x = Dense(1, activation='sigmoid',kernel_regularizer=regularizers.l2(0.001))(x)\n",
    "model = Model(base_model.input, x)\n",
    "\n",
    "adam = optimizers.Adam(lr=1e-4, beta_1=0.9, beta_2=0.999, epsilon=None, decay=0.0, amsgrad=False)\n",
    "model.compile(optimizer=adam,\n",
    "             loss='binary_crossentropy',\n",
    "             metrics=['accuracy'])\n",
    "\n",
    "gen = ImageDataGenerator(rotation_range=30,  #旋转数据增强\n",
    "                        width_shift_range=0.2,\n",
    "                        height_shift_range=0.2,\n",
    "                        shear_range=0.2,\n",
    "                        zoom_range=0.2,\n",
    "                        horizontal_flip=True)\n",
    "val_gen = ImageDataGenerator()\n",
    "train_generator = gen.flow_from_directory(train_data_dir, (299, 299), shuffle=True, \n",
    "                                          batch_size=64,class_mode='binary')\n",
    "valid_generator = val_gen.flow_from_directory(valid_data_dir, (299, 299), shuffle=True, \n",
    "                                          batch_size=32,class_mode='binary')\n",
    "\n",
    "for i in range(len(model.layers)):\n",
    "    print(i,model.layers[i].name)\n"
   ]
  },
  {
   "cell_type": "code",
   "execution_count": 3,
   "metadata": {
    "scrolled": true
   },
   "outputs": [
    {
     "name": "stdout",
     "output_type": "stream",
     "text": [
      "Epoch 1/10\n",
      "277/277 [==============================] - 469s 2s/step - loss: 0.4785 - acc: 0.8420 - val_loss: 0.3004 - val_acc: 0.9774\n",
      "\n",
      "Epoch 00001: val_loss improved from inf to 0.30042, saving model to xception-best_weight_freeze.h5\n",
      "Epoch 2/10\n",
      "277/277 [==============================] - 459s 2s/step - loss: 0.2755 - acc: 0.9534 - val_loss: 0.2014 - val_acc: 0.9823\n",
      "\n",
      "Epoch 00002: val_loss improved from 0.30042 to 0.20144, saving model to xception-best_weight_freeze.h5\n",
      "Epoch 3/10\n",
      "277/277 [==============================] - 454s 2s/step - loss: 0.2007 - acc: 0.9626 - val_loss: 0.1613 - val_acc: 0.9832\n",
      "\n",
      "Epoch 00003: val_loss improved from 0.20144 to 0.16126, saving model to xception-best_weight_freeze.h5\n",
      "Epoch 4/10\n",
      "277/277 [==============================] - 452s 2s/step - loss: 0.1614 - acc: 0.9669 - val_loss: 0.1414 - val_acc: 0.9832\n",
      "\n",
      "Epoch 00004: val_loss improved from 0.16126 to 0.14141, saving model to xception-best_weight_freeze.h5\n",
      "Epoch 5/10\n",
      "277/277 [==============================] - 450s 2s/step - loss: 0.1449 - acc: 0.9663 - val_loss: 0.1201 - val_acc: 0.9878\n",
      "\n",
      "Epoch 00005: val_loss improved from 0.14141 to 0.12011, saving model to xception-best_weight_freeze.h5\n",
      "Epoch 6/10\n",
      "277/277 [==============================] - 452s 2s/step - loss: 0.1276 - acc: 0.9690 - val_loss: 0.1127 - val_acc: 0.9878\n",
      "\n",
      "Epoch 00006: val_loss improved from 0.12011 to 0.11273, saving model to xception-best_weight_freeze.h5\n",
      "Epoch 7/10\n",
      "277/277 [==============================] - 452s 2s/step - loss: 0.1186 - acc: 0.9713 - val_loss: 0.1058 - val_acc: 0.9878\n",
      "\n",
      "Epoch 00007: val_loss improved from 0.11273 to 0.10581, saving model to xception-best_weight_freeze.h5\n",
      "Epoch 8/10\n",
      "277/277 [==============================] - 452s 2s/step - loss: 0.1136 - acc: 0.9682 - val_loss: 0.1042 - val_acc: 0.9864\n",
      "\n",
      "Epoch 00008: val_loss improved from 0.10581 to 0.10415, saving model to xception-best_weight_freeze.h5\n",
      "Epoch 9/10\n",
      "277/277 [==============================] - 453s 2s/step - loss: 0.1037 - acc: 0.9716 - val_loss: 0.0948 - val_acc: 0.9878\n",
      "\n",
      "Epoch 00009: val_loss improved from 0.10415 to 0.09484, saving model to xception-best_weight_freeze.h5\n",
      "Epoch 10/10\n",
      "277/277 [==============================] - 464s 2s/step - loss: 0.0985 - acc: 0.9736 - val_loss: 0.0929 - val_acc: 0.9882\n",
      "\n",
      "Epoch 00010: val_loss improved from 0.09484 to 0.09292, saving model to xception-best_weight_freeze.h5\n"
     ]
    }
   ],
   "source": [
    "#训练模型并保存在验证集上损失函数最小的权重\n",
    "filepath=\"xception-best_weight_freeze.h5\"\n",
    "checkpoint = ModelCheckpoint(filepath, monitor='val_loss', verbose=1, save_best_only=True, mode='min',save_weights_only=True)\n",
    "callbacks_list = [checkpoint]\n",
    "\n",
    "history=model.fit_generator(\n",
    "        train_generator,\n",
    "        steps_per_epoch=nb_train_samples//batch_size,\n",
    "        epochs=10,\n",
    "        validation_data=valid_generator,\n",
    "        validation_steps=nb_validation_samples//batch_size,\n",
    "        callbacks = callbacks_list)\n"
   ]
  },
  {
   "cell_type": "code",
   "execution_count": 4,
   "metadata": {},
   "outputs": [
    {
     "data": {
      "image/png": "[encoded data removed]",
      "text/plain": [
       "<Figure size 432x288 with 2 Axes>"
      ]
     },
     "metadata": {},
     "output_type": "display_data"
    }
   ],
   "source": [
    "#可视化学习曲线\n",
    "show_learning_curve(history)"
   ]
  },
  {
   "cell_type": "code",
   "execution_count": 7,
   "metadata": {},
   "outputs": [],
   "source": [
    "def predict_on_model(n, width, heigth, test_data_dir, model, weight, output_name):\n",
    "    x_test = np.zeros((n,width,heigth,3),dtype=np.uint8)\n",
    "\n",
    "    for i in tqdm(range(n)):\n",
    "        img = load_img(test_data_dir+\"/test/\"+'/%d.jpg' % (i+1)) \n",
    "        x_test[i,:,:,:] = img_to_array(img.resize((width,heigth),Image.ANTIALIAS))\n",
    "    \n",
    "    model.load_weights(weight)\n",
    "    y_test = model.predict(x_test, verbose=1)\n",
    "    y_test = y_test.clip(min=0.005, max=0.995)\n",
    "    \n",
    "    df = pd.read_csv(\"sample_submission.csv\")\n",
    "    for i in tqdm(range(n)):\n",
    "        df.set_value(i, 'label', y_test[i])\n",
    "    df.to_csv(output_name, index=None)\n",
    "    df.head(10)"
   ]
  },
  {
   "cell_type": "code",
   "execution_count": 8,
   "metadata": {},
   "outputs": [
    {
     "name": "stderr",
     "output_type": "stream",
     "text": [
      "100%|██████████| 12500/12500 [02:44<00:00, 76.11it/s]\n"
     ]
    },
    {
     "name": "stdout",
     "output_type": "stream",
     "text": [
      "12500/12500 [==============================] - 301s 24ms/step\n"
     ]
    },
    {
     "name": "stderr",
     "output_type": "stream",
     "text": [
      "  0%|          | 0/12500 [00:00<?, ?it/s]/home/ubuntu/anaconda3/envs/tensorflow_p36/lib/python3.6/site-packages/ipykernel_launcher.py:16: FutureWarning: set_value is deprecated and will be removed in a future release. Please use .at[] or .iat[] accessors instead\n",
      "  app.launch_new_instance()\n",
      "100%|██████████| 12500/12500 [00:00<00:00, 142531.92it/s]\n"
     ]
    }
   ],
   "source": [
    "predict_on_model(12500, 299, 299, test_data_dir, model, \"xception-best_weight_freeze.h5\", \"pred-xception-freeze-2.csv\")"
   ]
  },
  {
   "cell_type": "markdown",
   "metadata": {},
   "source": [
    "## 开放部分层fine-tuning\n",
    "开发97层以上，重新训练权重"
   ]
  },
  {
   "cell_type": "code",
   "execution_count": 10,
   "metadata": {},
   "outputs": [],
   "source": [
    "for layer in model.layers:\n",
    "    layer.trainable = False\n",
    "    \n",
    "for layer in model.layers[97:]:\n",
    "    layer.trainable = True\n",
    "\n",
    "model.load_weights('xception-best_weight_freeze.h5')\n",
    "\n",
    "model.compile(optimizer=adam,             \n",
    "              loss='binary_crossentropy',\n",
    "              metrics=['accuracy'])\n"
   ]
  },
  {
   "cell_type": "code",
   "execution_count": 12,
   "metadata": {},
   "outputs": [
    {
     "name": "stdout",
     "output_type": "stream",
     "text": [
      "Epoch 1/5\n",
      "277/277 [==============================] - 561s 2s/step - loss: 0.0202 - acc: 0.9944 - val_loss: 0.0201 - val_acc: 0.9955\n",
      "\n",
      "Epoch 00001: val_loss improved from inf to 0.02011, saving model to xception-fine-tuning-1.h5\n",
      "Epoch 2/5\n",
      "277/277 [==============================] - 559s 2s/step - loss: 0.0176 - acc: 0.9954 - val_loss: 0.0122 - val_acc: 0.9968\n",
      "\n",
      "Epoch 00002: val_loss improved from 0.02011 to 0.01216, saving model to xception-fine-tuning-1.h5\n",
      "Epoch 3/5\n",
      "277/277 [==============================] - 560s 2s/step - loss: 0.0141 - acc: 0.9967 - val_loss: 0.0100 - val_acc: 0.9982\n",
      "\n",
      "Epoch 00003: val_loss improved from 0.01216 to 0.01005, saving model to xception-fine-tuning-1.h5\n",
      "Epoch 4/5\n",
      "277/277 [==============================] - 560s 2s/step - loss: 0.0121 - acc: 0.9967 - val_loss: 0.0148 - val_acc: 0.9964\n",
      "\n",
      "Epoch 00004: val_loss did not improve from 0.01005\n",
      "Epoch 5/5\n",
      "277/277 [==============================] - 561s 2s/step - loss: 0.0121 - acc: 0.9972 - val_loss: 0.0121 - val_acc: 0.9968\n",
      "\n",
      "Epoch 00005: val_loss did not improve from 0.01005\n"
     ]
    }
   ],
   "source": [
    "#训练模型并保存在验证集上损失函数最小的权重\n",
    "filepath=\"xception-fine-tuning-1.h5\"\n",
    "checkpoint = ModelCheckpoint(filepath, monitor='val_loss', verbose=1, save_best_only=True, mode='min',save_weights_only=True)\n",
    "callbacks_list = [checkpoint]\n",
    "\n",
    "history=model.fit_generator(\n",
    "        train_generator,\n",
    "        steps_per_epoch=nb_train_samples//batch_size,\n",
    "        epochs=5, \n",
    "        validation_data=valid_generator,\n",
    "        validation_steps=nb_validation_samples//batch_size,\n",
    "        callbacks = callbacks_list)\n"
   ]
  },
  {
   "cell_type": "code",
   "execution_count": 13,
   "metadata": {},
   "outputs": [
    {
     "data": {
      "image/png": "[encoded data removed]",
      "text/plain": [
       "<Figure size 432x288 with 2 Axes>"
      ]
     },
     "metadata": {},
     "output_type": "display_data"
    }
   ],
   "source": [
    "#可视化学习曲线\n",
    "show_learning_curve(history)"
   ]
  },
  {
   "cell_type": "code",
   "execution_count": 15,
   "metadata": {},
   "outputs": [
    {
     "name": "stderr",
     "output_type": "stream",
     "text": [
      "100%|██████████| 12500/12500 [01:27<00:00, 143.13it/s]\n"
     ]
    },
    {
     "name": "stdout",
     "output_type": "stream",
     "text": [
      "12500/12500 [==============================] - 309s 25ms/step\n"
     ]
    },
    {
     "name": "stderr",
     "output_type": "stream",
     "text": [
      "  0%|          | 0/12500 [00:00<?, ?it/s]/home/ubuntu/anaconda3/envs/tensorflow_p36/lib/python3.6/site-packages/ipykernel_launcher.py:16: FutureWarning: set_value is deprecated and will be removed in a future release. Please use .at[] or .iat[] accessors instead\n",
      "  app.launch_new_instance()\n",
      "100%|██████████| 12500/12500 [00:00<00:00, 148283.24it/s]\n"
     ]
    }
   ],
   "source": [
    "predict_on_model(12500, 299, 299, test_data_dir, model, \"xception-fine-tuning-1.h5\", \"pred-xception-fine-tuning-1.csv\")"
   ]
  }
 ],
 "metadata": {
  "kernelspec": {
   "display_name": "Python 3",
   "language": "python",
   "name": "python3"
  },
  "language_info": {
   "codemirror_mode": {
    "name": "ipython",
    "version": 3
   },
   "file_extension": ".py",
   "mimetype": "text/x-python",
   "name": "python",
   "nbconvert_exporter": "python",
   "pygments_lexer": "ipython3",
   "version": "3.6.4"
  }
 },
 "nbformat": 4,
 "nbformat_minor": 2
}
