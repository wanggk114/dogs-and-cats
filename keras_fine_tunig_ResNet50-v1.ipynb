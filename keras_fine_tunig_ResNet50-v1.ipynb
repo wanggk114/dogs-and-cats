{
 "cells": [
  {
   "cell_type": "markdown",
   "metadata": {},
   "source": [
    "## ResNet50-fine-tuning-V1\n",
    "整体说明：\n",
    "- 使用keras的ResNet50预训练模型进行fine-tuning，分别进行下面四种情况的fine-tuning\n",
    "- 1、只训练自定义的输出层\n",
    "- 2、冻结前698层，训练后面的层\n",
    "- 3、冻结前618层，训练后面的层\n",
    "- 4、冻结前499层，训练后面的层  \n",
    "看哪种情况效果最好\n",
    "\n"
   ]
  },
  {
   "cell_type": "code",
   "execution_count": null,
   "metadata": {},
   "outputs": [],
   "source": [
    "'''\n",
    "数据目录结构：\n",
    "data/\n",
    "    train/    #原始数据，train.zip解压后生成\n",
    "        dog.0.jpg\n",
    "        cat.0.jpg\n",
    "        ...\n",
    "    train2/   #按标签分目录后的数据（连接文件）\n",
    "        dog/\n",
    "            dog.0.jpg\n",
    "            dog.1.jpg\n",
    "            ...\n",
    "        cat/\n",
    "            cat.0.jpg\n",
    "            cat.1.jpg\n",
    "            ...\n",
    "    train3/   #去除异常图片后的训练数据（连接文件）\n",
    "        dog/    #9983张图片\n",
    "            dog.0.jpg\n",
    "            dog.1.jpg\n",
    "            ...\n",
    "        cat/    #9961张图片\n",
    "            cat.0.jpg\n",
    "            cat.1.jpg\n",
    "            ...\n",
    "    validation/  #去除异常图片后的验证数据（连接文件）\n",
    "        dog/   #2496张图片\n",
    "            dog001.jpg\n",
    "            dog002.jpg\n",
    "            ...\n",
    "        cat/   #2490张图片\n",
    "            cat001.jpg\n",
    "            cat002.jpg\n",
    "            ...\n",
    "    test/     \n",
    "        test/  #测试集数据，12500张图片\n",
    "            1.jpg\n",
    "            2.jpg\n",
    "            ...\n",
    "'''\n",
    "import cv2\n",
    "import time\n",
    "import pandas as pd\n",
    "from tqdm import tqdm   #进度条\n",
    "from PIL import Image\n",
    "from helper import *\n",
    "\n",
    "from keras.models import *\n",
    "from keras.layers import *\n",
    "from keras.applications import *\n",
    "from keras.preprocessing.image import *\n",
    "from keras.callbacks import *\n",
    "from keras.optimizers import *\n",
    "from keras.utils import *\n",
    "from sklearn.utils import shuffle\n",
    "\n",
    "# dimensions of our images.\n",
    "img_width, img_height = 299, 299\n",
    "\n",
    "train_data_dir = 'data/train2'\n",
    "test_data_dir='data/test'\n",
    "\n",
    "\n",
    "batch_size = 72   #19944/72=277  4986/72=69.25\n",
    "epochs=20\n",
    "VER=1\n",
    "#模型权重文件\n",
    "model_h5file_base=\"ResNet50-base-tuning-v{}.h5\".format(VER)\n",
    "model_h5file_tunig1=\"ResNet50-fine-tuning-1-v{}.h5\".format(VER)\n",
    "model_h5file_tunig2=\"ResNet50-fine-tuning-2-v{}.h5\".format(VER)\n",
    "model_h5file_tunig3=\"ResNet50-fine-tuning-3-v{}.h5\".format(VER)\n",
    "\n",
    "#预测结果文件\n",
    "pred_file_base=\"pred-ResNet50-base-tuning-v{}.csv\".format(VER)\n",
    "pred_file_tuning1=\"pred-ResNet50-fine-tuning-1-v{}.csv\".format(VER)\n",
    "pred_file_tuning2=\"pred-ResNet50-fine-tuning-2-v{}.csv\".format(VER)\n",
    "pred_file_tuning3=\"pred-ResNet50-fine-tuning-3-v{}.csv\".format(VER)"
   ]
  },
  {
   "cell_type": "code",
   "execution_count": null,
   "metadata": {},
   "outputs": [],
   "source": [
    "#构造InceptionResNetV2模型\n",
    "start = time.clock()\n",
    "x_input = Input((img_width, img_height, 3))\n",
    "x_input = Lambda(resnet50.preprocess_input)(x_input)\n",
    "\n",
    "base_model = ResNet50(input_tensor=x_input, weights='imagenet', include_top=False, input_shape=(img_width, img_height, 3), pooling = 'avg')\n",
    "for layer in base_model.layers:\n",
    "    layer.trainable = False\n",
    "    \n",
    "y = Dropout(0.5)(base_model.output) #0.25-->0.5\n",
    "y = Dense(1, activation='sigmoid',kernel_regularizer=regularizers.l2(0.001))(y)  #增加正则项\n",
    "model = Model(inputs=base_model.input, outputs=y)\n",
    "\n",
    "print(\"Load base model used time:\", (time.clock() - start))\n"
   ]
  },
  {
   "cell_type": "code",
   "execution_count": null,
   "metadata": {},
   "outputs": [],
   "source": [
    "adam = optimizers.Adam(lr=1e-4, beta_1=0.9, beta_2=0.999, epsilon=None, decay=0.0, amsgrad=False)\n",
    "\n",
    "model.compile(optimizer=adam,\n",
    "             loss='binary_crossentropy',\n",
    "             metrics=['accuracy'])\n"
   ]
  },
  {
   "cell_type": "code",
   "execution_count": null,
   "metadata": {},
   "outputs": [],
   "source": [
    "# 输出模型结构图\n",
    "#plot_model(model, to_file='model_InceptionResNetV2.png')"
   ]
  },
  {
   "cell_type": "code",
   "execution_count": null,
   "metadata": {},
   "outputs": [],
   "source": [
    "#生成数据--全量读入内存\n",
    "#X_train, Y_train=read_images_to_memory(train_data_dir, img_width, img_height, test=True)\n",
    "#训练数据\n",
    "X_train, Y_train=read_images_to_memory(train_data_dir, img_width, img_height)\n",
    "X_train, Y_train=shuffle(X_train, Y_train)\n",
    "\n",
    "#测试数据\n",
    "X_test = load_test_data(12500, img_height, img_width, test_data_dir)\n"
   ]
  },
  {
   "cell_type": "code",
   "execution_count": null,
   "metadata": {},
   "outputs": [],
   "source": [
    "model.summary()\n"
   ]
  },
  {
   "cell_type": "code",
   "execution_count": null,
   "metadata": {},
   "outputs": [],
   "source": [
    "#训练模型并保存在验证集上损失函数最小的权重\n",
    "checkpoint = ModelCheckpoint(model_h5file_base, monitor='val_loss', verbose=1, save_best_only=True, mode='min',save_weights_only=True)\n",
    "stopping = EarlyStopping(monitor='val_loss', patience=3, verbose=1, mode='min') #如发现loss相比上一个epoch训练没有下降,则经过3个epoch后停止训练\n",
    "callbacks_list = [stopping,checkpoint]\n",
    "\n",
    "history=model.fit(X_train, Y_train, batch_size=128, epochs=epochs, validation_split=0.2, shuffle=True, callbacks=callbacks_list)"
   ]
  },
  {
   "cell_type": "code",
   "execution_count": null,
   "metadata": {},
   "outputs": [],
   "source": [
    "#可视化学习曲线\n",
    "show_learning_curve(history)"
   ]
  },
  {
   "cell_type": "code",
   "execution_count": null,
   "metadata": {},
   "outputs": [],
   "source": [
    "#预测结果    \n",
    "predict_on_model(X_test, model, model_h5file_base, pred_file_base)"
   ]
  },
  {
   "cell_type": "markdown",
   "metadata": {},
   "source": [
    "## 冻结前698层，再训练\n",
    "放开Inception-resnet-C第5个block之后的层，不含Inception-resnet-C_5  \n",
    "698 block8_5_ac "
   ]
  },
  {
   "cell_type": "code",
   "execution_count": null,
   "metadata": {},
   "outputs": [],
   "source": [
    "# 设置需要冻结的层数\n",
    "lock_layers(model, locked_layer_nums=698)"
   ]
  },
  {
   "cell_type": "code",
   "execution_count": null,
   "metadata": {},
   "outputs": [],
   "source": [
    "model.load_weights(model_h5file_base)\n",
    "adam = optimizers.Adam(lr=1e-4, beta_1=0.9, beta_2=0.999, epsilon=None, decay=0.0, amsgrad=False)\n",
    "model.compile(optimizer=adam,             \n",
    "              loss='binary_crossentropy',\n",
    "              metrics=['accuracy'])"
   ]
  },
  {
   "cell_type": "code",
   "execution_count": null,
   "metadata": {},
   "outputs": [],
   "source": [
    "#训练模型并保存在验证集上损失函数最小的权重\n",
    "checkpoint = ModelCheckpoint(model_h5file_tunig1, monitor='val_loss', verbose=1, save_best_only=True, mode='min',save_weights_only=True)\n",
    "stopping = EarlyStopping(monitor='val_loss', patience=3, verbose=1, mode='min') #如发现loss相比上一个epoch训练没有下降,则经过3个epoch后停止训练\n",
    "callbacks_list = [stopping,checkpoint]\n",
    "\n",
    "history=model.fit(X_train, Y_train, batch_size=128, epochs=epochs, validation_split=0.2, shuffle=True, callbacks=callbacks_list)"
   ]
  },
  {
   "cell_type": "code",
   "execution_count": null,
   "metadata": {},
   "outputs": [],
   "source": [
    "#可视化学习曲线\n",
    "show_learning_curve(history)"
   ]
  },
  {
   "cell_type": "code",
   "execution_count": null,
   "metadata": {},
   "outputs": [],
   "source": [
    "#预测结果\n",
    "predict_on_model(X_test, model, model_h5file_tunig1, pred_file_tuning1)"
   ]
  },
  {
   "cell_type": "markdown",
   "metadata": {},
   "source": [
    "## 冻结前618层，再训练\n",
    "放开Reduction-B之后的层，不含Reduction-B  \n",
    "618 mixed_7a"
   ]
  },
  {
   "cell_type": "code",
   "execution_count": null,
   "metadata": {},
   "outputs": [],
   "source": [
    "# 设置需要冻结的层数\n",
    "lock_layers(model, locked_layer_nums=618)"
   ]
  },
  {
   "cell_type": "code",
   "execution_count": null,
   "metadata": {},
   "outputs": [],
   "source": [
    "model.load_weights(model_h5file_base) \n",
    "adam = optimizers.Adam(lr=1e-4, beta_1=0.9, beta_2=0.999, epsilon=None, decay=0.0, amsgrad=False)\n",
    "model.compile(optimizer=adam,             \n",
    "              loss='binary_crossentropy',\n",
    "              metrics=['accuracy'])"
   ]
  },
  {
   "cell_type": "code",
   "execution_count": null,
   "metadata": {},
   "outputs": [],
   "source": [
    "#训练模型并保存在验证集上损失函数最小的权重\n",
    "checkpoint = ModelCheckpoint(model_h5file_tunig2, monitor='val_loss', verbose=1, save_best_only=True, mode='min',save_weights_only=True)\n",
    "stopping = EarlyStopping(monitor='val_loss', patience=3, verbose=1, mode='min') #如发现loss相比上一个epoch训练没有下降,则经过3个epoch后停止训练\n",
    "callbacks_list = [stopping,checkpoint]\n",
    "history=model.fit(X_train, Y_train, batch_size=128, epochs=epochs, validation_split=0.2, shuffle=True, callbacks=callbacks_list)"
   ]
  },
  {
   "cell_type": "code",
   "execution_count": null,
   "metadata": {},
   "outputs": [],
   "source": [
    "#可视化学习曲线\n",
    "show_learning_curve(history)"
   ]
  },
  {
   "cell_type": "code",
   "execution_count": null,
   "metadata": {},
   "outputs": [],
   "source": [
    "#预测结果\n",
    "predict_on_model(X_test, model, model_h5file_tunig2, pred_file_tuning2)"
   ]
  },
  {
   "cell_type": "markdown",
   "metadata": {},
   "source": [
    "## 冻结前746层，再训练\n",
    "放开Inception-resnet-C 第8个block之后的层，不含包Inception-resnet-C_8  \n",
    "746 block8_8_ac"
   ]
  },
  {
   "cell_type": "code",
   "execution_count": null,
   "metadata": {},
   "outputs": [],
   "source": [
    "# 设置需要冻结的层数\n",
    "lock_layers(model, locked_layer_nums=746)"
   ]
  },
  {
   "cell_type": "code",
   "execution_count": null,
   "metadata": {},
   "outputs": [],
   "source": [
    "model.load_weights(model_h5file_base) \n",
    "adam = optimizers.Adam(lr=1e-4, beta_1=0.9, beta_2=0.999, epsilon=None, decay=0.0, amsgrad=False)\n",
    "model.compile(optimizer=adam,             \n",
    "              loss='binary_crossentropy',\n",
    "              metrics=['accuracy'])"
   ]
  },
  {
   "cell_type": "code",
   "execution_count": null,
   "metadata": {},
   "outputs": [],
   "source": [
    "#训练模型并保存在验证集上损失函数最小的权重\n",
    "checkpoint = ModelCheckpoint(model_h5file_tunig3, monitor='val_loss', verbose=1, save_best_only=True, mode='min',save_weights_only=True)\n",
    "stopping = EarlyStopping(monitor='val_loss', patience=3, verbose=1, mode='min') #如发现loss相比上一个epoch训练没有下降,则经过3个epoch后停止训练\n",
    "callbacks_list = [stopping,checkpoint]\n",
    "\n",
    "history=model.fit(X_train, Y_train, batch_size=128, epochs=epochs, validation_split=0.2, shuffle=True, callbacks=callbacks_list)\n"
   ]
  },
  {
   "cell_type": "code",
   "execution_count": null,
   "metadata": {},
   "outputs": [],
   "source": [
    "#可视化学习曲线\n",
    "show_learning_curve(history)"
   ]
  },
  {
   "cell_type": "code",
   "execution_count": null,
   "metadata": {},
   "outputs": [],
   "source": [
    "#预测结果\n",
    "predict_on_model(X_test, model, model_h5file_tunig3, pred_file_tuning3)"
   ]
  }
 ],
 "metadata": {
  "kernelspec": {
   "display_name": "Python 3",
   "language": "python",
   "name": "python3"
  },
  "language_info": {
   "codemirror_mode": {
    "name": "ipython",
    "version": 3
   },
   "file_extension": ".py",
   "mimetype": "text/x-python",
   "name": "python",
   "nbconvert_exporter": "python",
   "pygments_lexer": "ipython3",
   "version": "3.6.4"
  }
 },
 "nbformat": 4,
 "nbformat_minor": 2
}
