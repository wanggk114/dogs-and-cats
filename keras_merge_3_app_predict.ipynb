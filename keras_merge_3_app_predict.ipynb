{
 "cells": [
  {
   "cell_type": "markdown",
   "metadata": {},
   "source": [
    "## keras_merge_3_app_predict\n",
    "使用异常图片检测时top50-top100选出的图片，验证模型的鲁棒性  \n",
    "模型使用：Merge-tuning-2-v2.h5  \n",
    "异常图片目录：data/anormal/diff/dog\n"
   ]
  },
  {
   "cell_type": "code",
   "execution_count": 1,
   "metadata": {},
   "outputs": [
    {
     "name": "stderr",
     "output_type": "stream",
     "text": [
      "/home/ubuntu/anaconda3/envs/tensorflow_p36/lib/python3.6/site-packages/matplotlib/__init__.py:1067: UserWarning: Duplicate key in file \"/home/ubuntu/.config/matplotlib/matplotlibrc\", line #2\n",
      "  (fname, cnt))\n",
      "/home/ubuntu/anaconda3/envs/tensorflow_p36/lib/python3.6/site-packages/matplotlib/__init__.py:1067: UserWarning: Duplicate key in file \"/home/ubuntu/.config/matplotlib/matplotlibrc\", line #3\n",
      "  (fname, cnt))\n",
      "/home/ubuntu/anaconda3/envs/tensorflow_p36/lib/python3.6/site-packages/h5py/__init__.py:36: FutureWarning: Conversion of the second argument of issubdtype from `float` to `np.floating` is deprecated. In future, it will be treated as `np.float64 == np.dtype(float).type`.\n",
      "  from ._conv import register_converters as _register_converters\n",
      "Using TensorFlow backend.\n"
     ]
    }
   ],
   "source": [
    "'''\n",
    "数据目录结构：\n",
    "data/\n",
    "    anormal/  #top50-top100选出的异常图片\n",
    "        diff/  \n",
    "           dog/  #9张图片\n",
    "            dog.10161.jpg\n",
    "            dog.10747.jpg\n",
    "            ...\n",
    "         cat/   #56张图片\n",
    "            cat.10037.jpg\n",
    "            cat.10270.jpg\n",
    "            ...\n",
    "'''\n",
    "import cv2\n",
    "import time\n",
    "import pandas as pd\n",
    "from tqdm import tqdm   #进度条\n",
    "from PIL import Image\n",
    "from helper import *\n",
    "\n",
    "from keras.models import *\n",
    "from keras.layers import *\n",
    "from keras.applications import *\n",
    "from keras.preprocessing.image import *\n",
    "from keras.utils import *\n",
    "from sklearn.utils import shuffle\n",
    "\n",
    "test_data_dir='data/test'\n",
    "\n",
    "#模型权重文件\n",
    "model_h5file=\"Merge-tuning-2-v2.h5\"  "
   ]
  },
  {
   "cell_type": "code",
   "execution_count": 3,
   "metadata": {},
   "outputs": [],
   "source": [
    "#保存特征向量，这里只需要提取需要测试的图片的特征向量\n",
    "def write_feature_data(MODEL, image_shape, weights_file, preprocess_input = None):\n",
    "    input_tensor = Input((image_shape[0], image_shape[1], 3))\n",
    "    x = input_tensor\n",
    "    if preprocess_input:\n",
    "        x = Lambda(preprocess_input)(x)\n",
    "    \n",
    "    base_model = MODEL(input_tensor=x, weights=weights_file, include_top=False, pooling = 'avg')\n",
    "\n",
    "    gen = ImageDataGenerator()\n",
    "    test_generator = gen.flow_from_directory(test_data_dir, image_shape, shuffle=False, \n",
    "                                             batch_size=8, class_mode=None) #因为图片很少，所以batch_size设成8\n",
    "    print(test_generator.samples)\n",
    "\n",
    "    test_feature = base_model.predict_generator(test_generator, test_generator.samples, verbose=1)\n",
    "    \n",
    "    with h5py.File(\"test_feature_%s.h5\"%base_model.name) as h:\n",
    "        h.create_dataset(\"test\", data=test_feature)\n",
    "        "
   ]
  },
  {
   "cell_type": "code",
   "execution_count": null,
   "metadata": {},
   "outputs": [],
   "source": [
    "#用三个模型fine-tuning时，预测结果最好的权重文件提取特征向量\n",
    "write_feature_data(ResNet50, (224, 224), \"no_top_ResNet50-fine-tuning-3-v1.h5\",  preprocess_input = resnet50.preprocess_input)\n",
    "print(\"get ResNet50 freature over!\")\n",
    "write_feature_data(Xception, (299, 299), \"no_top_xception-fine-tuning-1.h5\",  preprocess_input = xception.preprocess_input)\n",
    "print(\"get Xception freature over!\")\n",
    "write_feature_data(InceptionResNetV2, (299, 299), \"no_top_InceptonResNetV2-fine-tuning-2-v2.h5\",  preprocess_input = inception_resnet_v2.preprocess_input)\n",
    "print(\"get InceptionResNetV2 freature over!\")"
   ]
  },
  {
   "cell_type": "code",
   "execution_count": 10,
   "metadata": {},
   "outputs": [],
   "source": [
    "#从文件中读取特征向量和标签\n",
    "np.random.seed(2018)\n",
    "\n",
    "X_train = []\n",
    "X_test = []\n",
    "\n",
    "for filename in [\"test_feature_resnet50.h5\", \"test_feature_xception.h5\", \"test_feature_inception_resnet_v2.h5\"]:\n",
    "    with h5py.File(filename, 'r') as h:\n",
    "        X_test.append(np.array(h['test']))\n",
    "        \n",
    "X_test = np.concatenate(X_test, axis=1)\n"
   ]
  },
  {
   "cell_type": "code",
   "execution_count": 19,
   "metadata": {},
   "outputs": [],
   "source": [
    "#最优实验对应的模型\n",
    "input_tensor = Input(X_train.shape[1:])\n",
    "\n",
    "x = Dropout(0.5)(input_tensor)\n",
    "x = Dense(1, activation='sigmoid', kernel_regularizer=regularizers.l2(0.001))(x)\n",
    "model2 = Model(input_tensor, x)\n",
    "\n",
    "adam = optimizers.Adam(lr=1e-5, beta_1=0.9, beta_2=0.999, epsilon=None, decay=0.0, amsgrad=False) #训练快,把lr设置小一点\n",
    "model2.compile(optimizer=adam,\n",
    "             loss='binary_crossentropy',\n",
    "             metrics=['accuracy'])"
   ]
  },
  {
   "cell_type": "code",
   "execution_count": null,
   "metadata": {},
   "outputs": [],
   "source": [
    "def predict_on_model2(x_test, test_dir, batchSize, model, weight, output_name):\n",
    "    n=len(x_test)\n",
    "    \n",
    "    model.load_weights(weight)\n",
    "    y_test = model.predict(x_test, verbose=1)\n",
    "    y_test = y_test.clip(min=0.005, max=0.995)\n",
    "    \n",
    "    gen = ImageDataGenerator()\n",
    "    test_generator = gen.flow_from_directory(test_dir, (224, 224), shuffle=False, \n",
    "                                         batch_size=batchSize, class_mode=None)\n",
    "\n",
    "    df = pd.read_csv(\"sample_submission.csv\")\n",
    "    for i, fname in enumerate(test_generator.filenames):\n",
    "        index = int(fname[fname.rfind('/')+1:fname.rfind('.')])\n",
    "        df.set_value(index-1, 'label', y_test[i])\n",
    "    \n",
    "    df.to_csv(output_name, index=None)"
   ]
  },
  {
   "cell_type": "code",
   "execution_count": 23,
   "metadata": {},
   "outputs": [
    {
     "name": "stdout",
     "output_type": "stream",
     "text": [
      "12500/12500 [==============================] - 1s 91us/step\n",
      "Found 12500 images belonging to 1 classes.\n"
     ]
    },
    {
     "name": "stderr",
     "output_type": "stream",
     "text": [
      "/home/ubuntu/anaconda3/envs/tensorflow_p36/lib/python3.6/site-packages/ipykernel_launcher.py:15: FutureWarning: set_value is deprecated and will be removed in a future release. Please use .at[] or .iat[] accessors instead\n",
      "  from ipykernel import kernelapp as app\n"
     ]
    }
   ],
   "source": [
    "#预测结果   \n",
    "predict_on_model2(X_test,test_data_dir, 1, model, model_h5file_base2, pred_file_base2)"
   ]
  }
 ],
 "metadata": {
  "kernelspec": {
   "display_name": "Python 3",
   "language": "python",
   "name": "python3"
  },
  "language_info": {
   "codemirror_mode": {
    "name": "ipython",
    "version": 3
   },
   "file_extension": ".py",
   "mimetype": "text/x-python",
   "name": "python",
   "nbconvert_exporter": "python",
   "pygments_lexer": "ipython3",
   "version": "3.6.4"
  }
 },
 "nbformat": 4,
 "nbformat_minor": 2
}
