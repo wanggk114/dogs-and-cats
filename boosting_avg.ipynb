{
 "cells": [
  {
   "cell_type": "code",
   "execution_count": 34,
   "metadata": {},
   "outputs": [],
   "source": [
    "from pandas import DataFrame \n",
    "import pandas as pd\n"
   ]
  },
  {
   "cell_type": "markdown",
   "metadata": {},
   "source": [
    "## 求三个微调模型结果的平均值"
   ]
  },
  {
   "cell_type": "code",
   "execution_count": 37,
   "metadata": {},
   "outputs": [],
   "source": [
    "files=[\"pred-ResNet50-fine-tuning-3-v1.csv\",\"pred-InceptonResNetV2-fine-tuning-1-v5.csv\",\"pred-xception-fine-tuning-1.csv\"]\n",
    "df1=pd.read_csv(files[0])\n",
    "df2=pd.read_csv(files[1])\n",
    "df3=pd.read_csv(files[2])\n",
    "\n",
    "df=(df1+df2+df3)/3\n",
    "df.to_csv(\"avg_tuning.csv\", index=None)"
   ]
  }
 ],
 "metadata": {
  "kernelspec": {
   "display_name": "Environment (conda_tensorflow_p36)",
   "language": "python",
   "name": "conda_tensorflow_p36"
  },
  "language_info": {
   "codemirror_mode": {
    "name": "ipython",
    "version": 3
   },
   "file_extension": ".py",
   "mimetype": "text/x-python",
   "name": "python",
   "nbconvert_exporter": "python",
   "pygments_lexer": "ipython3",
   "version": "3.6.4"
  }
 },
 "nbformat": 4,
 "nbformat_minor": 2
}
